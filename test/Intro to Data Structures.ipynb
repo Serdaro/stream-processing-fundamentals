{
 "cells": [
  {
   "cell_type": "code",
   "execution_count": 1,
   "id": "4a74e5fc",
   "metadata": {},
   "outputs": [],
   "source": [
    "import numpy as np\n",
    "\n",
    "import pandas as pd"
   ]
  },
  {
   "cell_type": "code",
   "execution_count": 2,
   "id": "f43c6ae6",
   "metadata": {},
   "outputs": [
    {
     "data": {
      "text/plain": [
       "a   -1.042329\n",
       "b    1.253542\n",
       "c   -0.339871\n",
       "d    0.609854\n",
       "e    0.040222\n",
       "dtype: float64"
      ]
     },
     "execution_count": 2,
     "metadata": {},
     "output_type": "execute_result"
    }
   ],
   "source": [
    "s=pd.Series(np.random.randn(5), index=list(\"abcde\"))\n",
    "s"
   ]
  },
  {
   "cell_type": "code",
   "execution_count": 10,
   "id": "910cb587",
   "metadata": {},
   "outputs": [
    {
     "data": {
      "text/plain": [
       "a   -1.042329\n",
       "b    1.253542\n",
       "c   -0.339871\n",
       "d    0.609854\n",
       "dtype: float64"
      ]
     },
     "execution_count": 10,
     "metadata": {},
     "output_type": "execute_result"
    }
   ],
   "source": [
    "s[:-1]"
   ]
  }
 ],
 "metadata": {
  "kernelspec": {
   "display_name": "Python 3 (ipykernel)",
   "language": "python",
   "name": "python3"
  },
  "language_info": {
   "codemirror_mode": {
    "name": "ipython",
    "version": 3
   },
   "file_extension": ".py",
   "mimetype": "text/x-python",
   "name": "python",
   "nbconvert_exporter": "python",
   "pygments_lexer": "ipython3",
   "version": "3.9.6"
  }
 },
 "nbformat": 4,
 "nbformat_minor": 5
}
